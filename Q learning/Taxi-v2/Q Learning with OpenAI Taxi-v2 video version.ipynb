{
  "nbformat": 4,
  "nbformat_minor": 0,
  "metadata": {
    "colab": {
      "name": "Q Learning with OpenAI Taxi-v2 video version.ipynb",
      "version": "0.3.2",
      "provenance": []
    },
    "language_info": {
      "codemirror_mode": {
        "name": "ipython",
        "version": 3
      },
      "file_extension": ".py",
      "mimetype": "text/x-python",
      "name": "python",
      "nbconvert_exporter": "python",
      "pygments_lexer": "ipython3",
      "version": "3.6.4"
    },
    "kernelspec": {
      "name": "python3",
      "display_name": "Python 3"
    },
    "accelerator": "GPU"
  },
  "cells": [
    {
      "metadata": {
        "id": "FskJYaHxU5hi",
        "colab_type": "text"
      },
      "cell_type": "markdown",
      "source": [
        "# Q* Learning with OpenAI Taxi-v2 🕹️🚕\n",
        "<br> \n",
        "In this Notebook, we'll implement an agent <b>that plays OpenAI Taxi-V2.</b>\n",
        "\n",
        "<img src=\"https://github.com/AmrMKayid/Deep_reinforcement_learning_Course/blob/master/Q%20learning/Taxi-v2/taxi.png?raw=1\" alt=\"Taxi\"/>\n",
        "\n",
        "The goal of this game is that our agent must <b>pick up the passenger at one location and drop him off to the goal as fast as possible.</b>\n",
        "\n",
        "There are 4 locations (labeled by different letters) and your job is to pick up the passenger at one location and drop him off in another. \n",
        "\n",
        "- You receive +20 points for a successful dropoff\n",
        "- Lose 1 point for every timestep it takes. \n",
        "- There is also a 10 point penalty for illegal pick-up and drop-off actions (if you don't drop the passenger in one of the 3 other locations)"
      ]
    },
    {
      "metadata": {
        "id": "1tr-EJOUU5ho",
        "colab_type": "text"
      },
      "cell_type": "markdown",
      "source": [
        "# This is a notebook from [Deep Reinforcement Learning Course with Tensorflow](https://simoninithomas.github.io/Deep_reinforcement_learning_Course/)\n",
        "<img src=\"https://raw.githubusercontent.com/simoninithomas/Deep_reinforcement_learning_Course/master/docs/assets/img/DRLC%20Environments.png\" alt=\"Deep Reinforcement Course\"/>\n",
        "<br>\n",
        "<p>  Deep Reinforcement Learning Course is a free series of articles and videos tutorials 🆕 about Deep Reinforcement Learning, where **we'll learn the main algorithms (Q-learning, Deep Q Nets, Dueling Deep Q Nets, Policy Gradients, A2C, Proximal Policy Gradients…), and how to implement them with Tensorflow.**\n",
        "<br><br>\n",
        "    \n",
        "📜The articles explain the architectures from the big picture to the mathematical details behind them.\n",
        "<br>\n",
        "📹 The videos explain how to build the agents with Tensorflow </b></p>\n",
        "<br>\n",
        "This course will give you a **solid foundation for understanding and implementing the future state of the art algorithms**. And, you'll build a strong professional portfolio by creating **agents that learn to play awesome environments**: Doom© 👹, Space invaders 👾, Outrun, Sonic the Hedgehog©, Michael Jackson’s Moonwalker, agents that will be able to navigate in 3D environments with DeepMindLab (Quake) and able to walk with Mujoco. \n",
        "<br><br>\n",
        "</p> \n",
        "\n",
        "## 📚 The complete [Syllabus HERE](https://simoninithomas.github.io/Deep_reinforcement_learning_Course/)\n",
        "\n",
        "\n",
        "## Any questions 👨‍💻\n",
        "<p> If you have any questions, feel free to ask me: </p>\n",
        "<p> 📧: <a href=\"mailto:hello@simoninithomas.com\">hello@simoninithomas.com</a>  </p>\n",
        "<p> Github: https://github.com/simoninithomas/Deep_reinforcement_learning_Course </p>\n",
        "<p> 🌐 : https://simoninithomas.github.io/Deep_reinforcement_learning_Course/ </p>\n",
        "<p> Twitter: <a href=\"https://twitter.com/ThomasSimonini\">@ThomasSimonini</a> </p>\n",
        "<p> Don't forget to <b> follow me on <a href=\"https://twitter.com/ThomasSimonini\">twitter</a>, <a href=\"https://github.com/simoninithomas/Deep_reinforcement_learning_Course\">github</a> and <a href=\"https://medium.com/@thomassimonini\">Medium</a> to be alerted of the new articles that I publish </b></p>\n",
        "    \n",
        "## How to help  🙌\n",
        "3 ways:\n",
        "- **Clap our articles and like our videos a lot**:Clapping in Medium means that you really like our articles. And the more claps we have, the more our article is shared Liking our videos help them to be much more visible to the deep learning community.\n",
        "- **Share and speak about our articles and videos**: By sharing our articles and videos you help us to spread the word. \n",
        "- **Improve our notebooks**: if you found a bug or **a better implementation** you can send a pull request.\n",
        "<br>\n",
        "\n",
        "## Important note 🤔\n",
        "<b> You can run it on your computer but it's better to run it on GPU based services</b>, personally I use Microsoft Azure and their Deep Learning Virtual Machine (they offer 170$)\n",
        "https://azuremarketplace.microsoft.com/en-us/marketplace/apps/microsoft-ads.dsvm-deep-learning\n",
        "<br>\n",
        "⚠️ I don't have any business relations with them. I just loved their excellent customer service.\n",
        "\n",
        "If you have some troubles to use Microsoft Azure follow the explainations of this excellent article here (without last the part fast.ai): https://medium.com/@manikantayadunanda/setting-up-deeplearning-machine-and-fast-ai-on-azure-a22eb6bd6429"
      ]
    },
    {
      "metadata": {
        "id": "4PfH5aMxU5hq",
        "colab_type": "text"
      },
      "cell_type": "markdown",
      "source": [
        "## Prerequisites 🏗️\n",
        "Before diving on the notebook **you need to understand**:\n",
        "- The foundations of Reinforcement learning (MC, TD, Rewards hypothesis...) [Article](https://medium.freecodecamp.org/an-introduction-to-reinforcement-learning-4339519de419)\n",
        "- Q-learning [Article](https://medium.freecodecamp.org/diving-deeper-into-reinforcement-learning-with-q-learning-c18d0db58efe)\n",
        "- You can follow this notebook using my [video tutorial](https://www.youtube.com/watch?v=q2ZOEFAaaI0) "
      ]
    },
    {
      "metadata": {
        "id": "J8N5SYXJU5hv",
        "colab_type": "code",
        "colab": {
          "base_uri": "https://localhost:8080/",
          "height": 336
        },
        "outputId": "5abaa686-9817-4ca3-804d-bb28140fb714"
      },
      "cell_type": "code",
      "source": [
        "from IPython.display import HTML\n",
        "HTML('<iframe width=\"560\" height=\"315\" src=\"https://www.youtube.com/embed/q2ZOEFAaaI0?showinfo=0\" frameborder=\"0\" allow=\"autoplay; encrypted-media\" allowfullscreen></iframe>')\n"
      ],
      "execution_count": 1,
      "outputs": [
        {
          "output_type": "execute_result",
          "data": {
            "text/html": [
              "<iframe width=\"560\" height=\"315\" src=\"https://www.youtube.com/embed/q2ZOEFAaaI0?showinfo=0\" frameborder=\"0\" allow=\"autoplay; encrypted-media\" allowfullscreen></iframe>"
            ],
            "text/plain": [
              "<IPython.core.display.HTML object>"
            ]
          },
          "metadata": {
            "tags": []
          },
          "execution_count": 1
        }
      ]
    },
    {
      "metadata": {
        "id": "PEjQBwLlU5h4",
        "colab_type": "text"
      },
      "cell_type": "markdown",
      "source": [
        "## Step 0: Import the dependencies 📚\n",
        "First, we need to import the libraries <b>that we'll need to create our agent.</b></br>\n",
        "We use 3 libraries:\n",
        "- `Numpy` for our Qtable\n",
        "- `OpenAI Gym` for our Taxi Environment\n",
        "- `Random` to generate random numbers"
      ]
    },
    {
      "metadata": {
        "id": "6pUDG9fOU5h5",
        "colab_type": "code",
        "colab": {}
      },
      "cell_type": "code",
      "source": [
        "import gym\n",
        "import time\n",
        "import random\n",
        "import numpy as np\n",
        "from IPython.display import clear_output"
      ],
      "execution_count": 0,
      "outputs": []
    },
    {
      "metadata": {
        "id": "9kuCaAZ2U5iC",
        "colab_type": "text"
      },
      "cell_type": "markdown",
      "source": [
        "## Step 1: Create the environment 🎮\n",
        "- Here we'll create the Taxi environment. \n",
        "- OpenAI Gym is a library <b> composed of many environments that we can use to train our agents.</b>"
      ]
    },
    {
      "metadata": {
        "id": "XzE0-bmdU5iD",
        "colab_type": "code",
        "colab": {
          "base_uri": "https://localhost:8080/",
          "height": 153
        },
        "outputId": "9f989d17-0470-488a-b869-4de9d117bfb1"
      },
      "cell_type": "code",
      "source": [
        "env = gym.make(\"Taxi-v2\")\n",
        "env.render()"
      ],
      "execution_count": 3,
      "outputs": [
        {
          "output_type": "stream",
          "text": [
            "+---------+\n",
            "|R: | : :\u001b[35mG\u001b[0m|\n",
            "| : : : : |\n",
            "| : : : : |\n",
            "| | : | : |\n",
            "|\u001b[34;1mY\u001b[0m| : |\u001b[43mB\u001b[0m: |\n",
            "+---------+\n",
            "\n"
          ],
          "name": "stdout"
        }
      ]
    },
    {
      "metadata": {
        "id": "OZ9PfZUeU5iG",
        "colab_type": "text"
      },
      "cell_type": "markdown",
      "source": [
        "## Step 2: Create the Q-table and initialize it 🗄️\n",
        "- Now, we'll create our Q-table, to know how much rows (states) and columns (actions) we need, we need to calculate the action_size and the state_size\n",
        "- OpenAI Gym provides us a way to do that: `env.action_space.n` and `env.observation_space.n`"
      ]
    },
    {
      "metadata": {
        "id": "Lx97hLUQU5iH",
        "colab_type": "code",
        "colab": {
          "base_uri": "https://localhost:8080/",
          "height": 51
        },
        "outputId": "7b9aca30-a9a1-4751-dcd3-d191779ed67d"
      },
      "cell_type": "code",
      "source": [
        "action_size = env.action_space.n\n",
        "print(\"Action size \", action_size)\n",
        "\n",
        "state_size = env.observation_space.n\n",
        "print(\"State size \", state_size)"
      ],
      "execution_count": 4,
      "outputs": [
        {
          "output_type": "stream",
          "text": [
            "Action size  6\n",
            "State size  500\n"
          ],
          "name": "stdout"
        }
      ]
    },
    {
      "metadata": {
        "id": "DXnbGHFlU5iN",
        "colab_type": "code",
        "colab": {
          "base_uri": "https://localhost:8080/",
          "height": 136
        },
        "outputId": "54d5f73e-1f3f-44f8-bff8-8c693b5dff1f"
      },
      "cell_type": "code",
      "source": [
        "qtable = np.zeros((state_size, action_size))\n",
        "print(qtable)"
      ],
      "execution_count": 8,
      "outputs": [
        {
          "output_type": "stream",
          "text": [
            "[[0. 0. 0. 0. 0. 0.]\n",
            " [0. 0. 0. 0. 0. 0.]\n",
            " [0. 0. 0. 0. 0. 0.]\n",
            " ...\n",
            " [0. 0. 0. 0. 0. 0.]\n",
            " [0. 0. 0. 0. 0. 0.]\n",
            " [0. 0. 0. 0. 0. 0.]]\n"
          ],
          "name": "stdout"
        }
      ]
    },
    {
      "metadata": {
        "id": "Qsqd1TSjU5iQ",
        "colab_type": "text"
      },
      "cell_type": "markdown",
      "source": [
        "## Step 3: Create the hyperparameters ⚙️\n",
        "Here, we'll specify the hyperparameters."
      ]
    },
    {
      "metadata": {
        "id": "KUsLXtVhU5iQ",
        "colab_type": "code",
        "colab": {}
      },
      "cell_type": "code",
      "source": [
        "total_episodes = 50000        # Total episodes\n",
        "total_test_episodes = 100     # Total test episodes\n",
        "max_steps = 99                # Max steps per episode\n",
        "\n",
        "learning_rate = 0.7           # Learning rate\n",
        "gamma = 0.618                 # Discounting rate\n",
        "\n",
        "# Exploration parameters\n",
        "epsilon = 1.0                 # Exploration rate\n",
        "max_epsilon = 1.0             # Exploration probability at start\n",
        "min_epsilon = 0.01            # Minimum exploration probability \n",
        "decay_rate = 0.01             # Exponential decay rate for exploration prob"
      ],
      "execution_count": 0,
      "outputs": []
    },
    {
      "metadata": {
        "id": "F6ka0pUCU5iT",
        "colab_type": "text"
      },
      "cell_type": "markdown",
      "source": [
        "## Step 4: The Q learning algorithm 🧠\n",
        "- Now we implement the Q learning algorithm:\n",
        "<img src=\"https://github.com/AmrMKayid/Deep_reinforcement_learning_Course/blob/master/Q%20learning/Taxi-v2/qtable_algo.png?raw=1\" alt=\"Q algo\"/>"
      ]
    },
    {
      "metadata": {
        "id": "7zCYbs6OU5iU",
        "colab_type": "code",
        "colab": {}
      },
      "cell_type": "code",
      "source": [
        "# 2 For life or until learning is stopped\n",
        "for episode in range(total_episodes):\n",
        "    # Reset the environment\n",
        "    state = env.reset()\n",
        "    step = 0\n",
        "    done = False\n",
        "    \n",
        "    for step in range(max_steps):\n",
        "        # 3. Choose an action a in the current world state (s)\n",
        "        ## First we randomize a number\n",
        "        exp_exp_tradeoff = random.uniform(0,1)\n",
        "        \n",
        "        ## If this number > greater than epsilon --> exploitation (taking the biggest Q value for this state)\n",
        "        if exp_exp_tradeoff > epsilon:\n",
        "            action = np.argmax(qtable[state,:])\n",
        "        \n",
        "        # Else doing a random choice --> exploration\n",
        "        else:\n",
        "            action = env.action_space.sample()\n",
        "        \n",
        "        # Take the action (a) and observe the outcome state(s') and reward (r)\n",
        "        new_state, reward, done, info = env.step(action)\n",
        "\n",
        "        # Update Q(s,a):= Q(s,a) + lr [R(s,a) + gamma * max Q(s',a') - Q(s,a)]\n",
        "        qtable[state, action] = qtable[state, action] + learning_rate * (reward + gamma * \n",
        "                                    np.max(qtable[new_state, :]) - qtable[state, action])\n",
        "                \n",
        "        # Our new state is state\n",
        "        state = new_state\n",
        "        \n",
        "        # If done : finish episode\n",
        "        if done == True: \n",
        "            break\n",
        "    \n",
        "    # Reduce epsilon (because we need less and less exploration)\n",
        "    epsilon = min_epsilon + (max_epsilon - min_epsilon)*np.exp(-decay_rate*episode) "
      ],
      "execution_count": 0,
      "outputs": []
    },
    {
      "metadata": {
        "id": "Q-Tz9AVeV2rA",
        "colab_type": "code",
        "colab": {
          "base_uri": "https://localhost:8080/",
          "height": 238
        },
        "outputId": "c016dbe5-e347-47ad-d8a8-eb06b774bdb7"
      },
      "cell_type": "code",
      "source": [
        "qtable"
      ],
      "execution_count": 11,
      "outputs": [
        {
          "output_type": "execute_result",
          "data": {
            "text/plain": [
              "array([[  0.        ,   0.        ,   0.        ,   0.        ,\n",
              "          0.        ,   0.        ],\n",
              "       [ -2.32036193,  -2.13656628,  -2.32055997,  -2.13852628,\n",
              "         -1.83910189, -11.13656421],\n",
              "       [ -1.83911045,  -1.39924618,  -1.83920668,  -1.3579431 ,\n",
              "         -0.57891593, -10.3579227 ],\n",
              "       ...,\n",
              "       [ -0.58684792,   0.6813658 ,  -0.5886119 ,  -1.35786019,\n",
              "         -9.57898883,  -9.57904971],\n",
              "       [ -2.35377987,  -2.13656554,  -2.33991046,  -2.27679645,\n",
              "        -11.29948772, -11.01601693],\n",
              "       [ -1.4128198 ,  -1.52491973,   3.85049   ,  11.36      ,\n",
              "         -7.        ,  -7.        ]])"
            ]
          },
          "metadata": {
            "tags": []
          },
          "execution_count": 11
        }
      ]
    },
    {
      "metadata": {
        "id": "AgLLCxLpU5iW",
        "colab_type": "text"
      },
      "cell_type": "markdown",
      "source": [
        "## Step 5: Use our Q-table to play Taxi ! 🚖\n",
        "- After 50 000 episodes, our Q-table can be used as a \"cheatsheet\" to play Taxi.\n",
        "- By running this cell you can see our agent playing Taxi."
      ]
    },
    {
      "metadata": {
        "id": "6lrfLn_5U5iY",
        "colab_type": "code",
        "colab": {
          "base_uri": "https://localhost:8080/",
          "height": 34
        },
        "outputId": "f704ccba-c392-4831-e20e-662709e822e7"
      },
      "cell_type": "code",
      "source": [
        "env.reset()\n",
        "rewards = []\n",
        "\n",
        "for episode in range(total_test_episodes):\n",
        "    state = env.reset()\n",
        "    step = 0\n",
        "    done = False\n",
        "    total_rewards = 0\n",
        "    #print(\"****************************************************\")\n",
        "    #print(\"EPISODE \", episode)\n",
        "\n",
        "    for step in range(max_steps):\n",
        "        # UNCOMMENT IT IF YOU WANT TO SEE OUR AGENT PLAYING\n",
        "        clear_output(wait=True)\n",
        "        env.render()\n",
        "        time.sleep(0.5)\n",
        "        # Take the action (index) that have the maximum expected future reward given that state\n",
        "        action = np.argmax(qtable[state,:])\n",
        "        \n",
        "        new_state, reward, done, info = env.step(action)\n",
        "        \n",
        "        total_rewards += reward\n",
        "        \n",
        "        if done:\n",
        "            rewards.append(total_rewards)\n",
        "            #print (\"Score\", total_rewards)\n",
        "            break\n",
        "        state = new_state\n",
        "env.close()\n",
        "print (\"Score over time: \" +  str(sum(rewards)/total_test_episodes))"
      ],
      "execution_count": 14,
      "outputs": [
        {
          "output_type": "stream",
          "text": [
            "Score over time: 8.47\n"
          ],
          "name": "stdout"
        }
      ]
    }
  ]
}